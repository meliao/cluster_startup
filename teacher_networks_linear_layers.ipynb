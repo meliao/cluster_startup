{
  "cells": [
    {
      "cell_type": "markdown",
      "metadata": {
        "id": "view-in-github",
        "colab_type": "text"
      },
      "source": [
        "<a href=\"https://colab.research.google.com/github/meliao/cluster_startup/blob/main/teacher_networks_linear_layers.ipynb\" target=\"_parent\"><img src=\"https://colab.research.google.com/assets/colab-badge.svg\" alt=\"Open In Colab\"/></a>"
      ]
    },
    {
      "cell_type": "markdown",
      "metadata": {
        "id": "b0dNj42TmxWh"
      },
      "source": [
        "# imports"
      ]
    },
    {
      "cell_type": "code",
      "execution_count": null,
      "metadata": {
        "id": "UGUscdc-l8A0"
      },
      "outputs": [],
      "source": [
        "import torch\n",
        "import torch.nn.functional as F\n",
        "from torch import nn\n",
        "import numpy as np\n",
        "import matplotlib.pylab as plt\n",
        "from scipy.stats import ortho_group\n",
        "from scipy.stats import linregress\n",
        "import torch.multiprocessing as mp\n",
        "import queue\n",
        "import time\n",
        "from torch.optim.lr_scheduler import ExponentialLR, CosineAnnealingWarmRestarts, SequentialLR, MultiStepLR\n",
        "import logging"
      ]
    },
    {
      "cell_type": "code",
      "execution_count": null,
      "metadata": {
        "colab": {
          "base_uri": "https://localhost:8080/"
        },
        "id": "gx2VIx954ceg",
        "outputId": "64dabea9-14c3-413b-b6d0-39003a994919"
      },
      "outputs": [
        {
          "output_type": "stream",
          "name": "stdout",
          "text": [
            "Mounted at /content/gdrive\n"
          ]
        }
      ],
      "source": [
        "from google.colab import drive\n",
        "drive.mount('/content/gdrive')"
      ]
    },
    {
      "cell_type": "markdown",
      "metadata": {
        "id": "EYgKY0XamwXl"
      },
      "source": [
        "# helper funcs for training"
      ]
    },
    {
      "cell_type": "markdown",
      "metadata": {
        "id": "s-DgRMVoySyi"
      },
      "source": [
        "## single epoch training func"
      ]
    },
    {
      "cell_type": "code",
      "execution_count": null,
      "metadata": {
        "id": "ZOuxF1IcmNQE"
      },
      "outputs": [],
      "source": [
        "def train(dataloader, model, loss_fn, optimizer):\n",
        "    \"\"\"\n",
        "    trains one epoch\n",
        "    \"\"\"\n",
        "    size = len(dataloader.dataset)\n",
        "    for batch, (X, y) in enumerate(dataloader):\n",
        "        #Compute prediction and loss\n",
        "        pred = model(X)\n",
        "        loss = loss_fn(pred.flatten(), y)\n",
        "\n",
        "        #Backpropagation\n",
        "        optimizer.zero_grad()\n",
        "        loss.backward()\n",
        "        optimizer.step()\n"
      ]
    },
    {
      "cell_type": "markdown",
      "metadata": {
        "id": "V01IuO8_yVvF"
      },
      "source": [
        "## helper functions for weight decay only on weights, not on biases"
      ]
    },
    {
      "cell_type": "code",
      "execution_count": null,
      "metadata": {
        "id": "5Ru0YuJ7yJ0d"
      },
      "outputs": [],
      "source": [
        "def add_weight_decay(model, weight_decay, skip_list=()):\n",
        "    decay = []\n",
        "    no_decay = []\n",
        "    for name, param in model.named_parameters():\n",
        "        if not param.requires_grad:\n",
        "            continue  #frozen weights\n",
        "        if len(param.shape) == 1 or name.endswith(\".bias\") or name in skip_list:\n",
        "            no_decay.append(param)\n",
        "        else:\n",
        "            decay.append(param)\n",
        "    return [\n",
        "        {'params': no_decay, 'weight_decay': 0.},\n",
        "        {'params': decay, 'weight_decay': weight_decay}]\n"
      ]
    },
    {
      "cell_type": "code",
      "execution_count": null,
      "metadata": {
        "id": "pznyimU5yLqa"
      },
      "outputs": [],
      "source": [
        "def weight_decay_val(paramlist):\n",
        "    \"\"\"\n",
        "    computes the value of the weight decay term after an epoch\n",
        "    \"\"\"\n",
        "    sum = 0.\n",
        "    for weight in paramlist[1]['params']:\n",
        "        with torch.no_grad():\n",
        "            sum += (weight**2).sum()\n",
        "    return sum.item()\n",
        "\n",
        "def weight_decay_eval(paramlist):\n",
        "    \"\"\"\n",
        "    computes the value of the weight decay term after an epoch\n",
        "    \"\"\"\n",
        "    sum = 0.\n",
        "    for weight in paramlist[1]['params']:\n",
        "        with torch.no_grad():\n",
        "            sum += (weight**2).sum()\n",
        "    return sum\n"
      ]
    },
    {
      "cell_type": "markdown",
      "metadata": {
        "id": "qDtrjjMPya4Y"
      },
      "source": [
        "## data generation function"
      ]
    },
    {
      "cell_type": "code",
      "execution_count": null,
      "metadata": {
        "id": "_LV9w55pyNYS"
      },
      "outputs": [],
      "source": [
        "def gen_data(datasetsize,r,seed,trainsize=2**18,testsize=2**10,d=20,funcseed=42,verbose=False,ood=False,normal=False):\n",
        "    ##Generate data with a true central subspaces of varying dimensions\n",
        "    #generate X values for training and test sets\n",
        "    np.random.seed(seed) #set seed for data generation\n",
        "    if not normal:\n",
        "      trainX = np.random.rand(d,trainsize).astype(np.float32)[:,:datasetsize] - 0.5 #distributed as U[-1/2, 1/2]\n",
        "      testX = np.random.rand(d,testsize).astype(np.float32) - 0.5 #distributed as U[-1/2, 1/2]\n",
        "    else:\n",
        "      trainX = np.random.randn(d,trainsize).astype(np.float32)[:,:datasetsize] #distributed as N(0,1)\n",
        "      testX = np.random.randn(d,testsize).astype(np.float32) #distributed as N(0,1)\n",
        "    #out of distribution datagen\n",
        "    if ood:\n",
        "      trainX *= 2 #now distributed as U[-1, 1] or N(0,2)\n",
        "      testX *= 2 #now distributed as U[-1, 1] or N(0,2)\n",
        "    ##for each $r$ value create and store data-gen functions and $y$ evaluations\n",
        "    #geneate params for functions\n",
        "    k = d+1\n",
        "    np.random.seed(funcseed) #set seed for random function generation\n",
        "    U = ortho_group.rvs(k)[:,:r]\n",
        "    Sigma = np.random.rand(r)*100\n",
        "    V = ortho_group.rvs(d)[:,:r]\n",
        "    W = (U * Sigma) @ V.T\n",
        "    A = np.random.randn(k)\n",
        "    B = np.random.randn(k)\n",
        "    #create functions\n",
        "    def g(z): #active subspace function\n",
        "        hidden_layer = (U*Sigma)@z\n",
        "        hidden_layer = hidden_layer.T + B\n",
        "        hidden_layer = np.maximum(0,hidden_layer).T\n",
        "        return A@hidden_layer\n",
        "    def f(x): #teacher network\n",
        "        z = V.T@x\n",
        "        return g(z)\n",
        "    #generate data\n",
        "    trainY = f(trainX).astype(np.float32)\n",
        "    testY = f(testX).astype(np.float32)\n",
        "    #move data to device\n",
        "    if verbose:\n",
        "        print(\"device: {}\".format(device))\n",
        "    trainX = torch.from_numpy(trainX).T.to(device)\n",
        "    trainY = torch.from_numpy(trainY).to(device)\n",
        "    testX = torch.from_numpy(testX).T.to(device)\n",
        "    testY = torch.from_numpy(testY).to(device)\n",
        "    if verbose:\n",
        "        print(\"trainX shape = {} trainY shape = {}\".format(\n",
        "            trainX.shape,\n",
        "            trainY.shape\n",
        "        ))\n",
        "    return trainX,trainY,testX,testY\n"
      ]
    },
    {
      "cell_type": "markdown",
      "metadata": {
        "id": "mVuRuI3syeOC"
      },
      "source": [
        "## model class"
      ]
    },
    {
      "cell_type": "code",
      "execution_count": null,
      "metadata": {
        "id": "iD4PteD1yPrv"
      },
      "outputs": [],
      "source": [
        "def Llayers(L,d,width):\n",
        "    #construct L-1 linear layers; bias term only on last linear layer\n",
        "    if L < 2:\n",
        "        raise ValueError(\"L must be at least 2\")\n",
        "    if L == 2:\n",
        "        linear_layers = [nn.Linear(d,width,bias=True)]\n",
        "    if L > 2:\n",
        "        linear_layers = [nn.Linear(d,width,bias=False)]\n",
        "        for l in range(L-3):\n",
        "            linear_layers.append(nn.Linear(width,width,bias=False))\n",
        "        linear_layers.append(nn.Linear(width,width,bias=True))\n",
        "\n",
        "    relu = nn.ReLU()\n",
        "\n",
        "    last_layer = nn.Linear(width,1)\n",
        "\n",
        "    layers = linear_layers + [relu,last_layer]\n",
        "\n",
        "    return nn.Sequential(*layers)\n"
      ]
    },
    {
      "cell_type": "markdown",
      "metadata": {
        "id": "ebVoo9zdygNo"
      },
      "source": [
        "## full training function"
      ]
    },
    {
      "cell_type": "code",
      "execution_count": null,
      "metadata": {
        "id": "Y-Gdr-tPyRFy"
      },
      "outputs": [],
      "source": [
        "#scheduler=MultiStepLR,milestones=[30_000], gamma=0.1\n",
        "def train_L_layers(datasetsize,L,r,weight_decay,epochs=30_100,lr=1e-4,\n",
        "                   trainsize=2**18,testsize=2**10,d=20,funcseed=42,datagenseed=1,normal=False,\n",
        "                   initseed=42,batch_size=64,width=1000,verbose=False,\n",
        "                   no_wd_last_how_many_epochs=100,\n",
        "                   scheduler=None,**schedulerkwargs):\n",
        "    #start timer\n",
        "    starttime = time.time()\n",
        "\n",
        "    #generate data\n",
        "    trainX,trainY,testX,testY = gen_data(datasetsize,r,datagenseed,trainsize,testsize,d,funcseed,verbose,normal=normal)\n",
        "\n",
        "    #define pytorch dataloaders\n",
        "    dataset = torch.utils.data.TensorDataset(trainX,trainY) #create your dataset\n",
        "    dataloader = torch.utils.data.DataLoader(dataset, batch_size=batch_size, shuffle=True) #create your dataloader\n",
        "\n",
        "    #initialize model\n",
        "    torch.manual_seed(initseed) #set seed for initalization\n",
        "    model = Llayers(L,d,width)\n",
        "    model.to(device)\n",
        "\n",
        "    model_parameters = filter(lambda p: p.requires_grad, model.parameters())\n",
        "    num_params = sum([np.prod(p.size()) for p in model_parameters])\n",
        "\n",
        "    loss_fn = nn.MSELoss()\n",
        "    paramlist = add_weight_decay(model,weight_decay)\n",
        "    optimizer = torch.optim.AdamW(paramlist, lr=lr)\n",
        "\n",
        "    if verbose:\n",
        "        print(\"lambda = {}\".format(paramlist[1]['weight_decay']))\n",
        "\n",
        "    #main training loop\n",
        "    with torch.no_grad():\n",
        "        trainmse = torch.zeros(epochs,device=device)\n",
        "        weightdecay = torch.zeros(epochs,device=device)\n",
        "        learningrate = torch.zeros(epochs,device=device)\n",
        "    if verbose:\n",
        "        printfreq = 100 if datasetsize > 500 else 500\n",
        "    if verbose:\n",
        "        print(\"Time: {:.1f} Starting to Train\".format(\n",
        "            time.time()-starttime\n",
        "        ))\n",
        "    if scheduler is not None:\n",
        "        scheduler = scheduler(optimizer,**schedulerkwargs)\n",
        "    flag = False\n",
        "    for t in range(epochs):\n",
        "        train(dataloader, model, loss_fn, optimizer)\n",
        "\n",
        "        with torch.no_grad():\n",
        "            #record current MSE, weight decay value, and learning rate\n",
        "            trainmse[t] = loss_fn(model(trainX).flatten(),trainY) + weight_decay_eval(paramlist)\n",
        "            for param in model.parameters():\n",
        "                weightdecay[t] += weight_decay_val(paramlist)\n",
        "            if scheduler is not None:\n",
        "                learningrate[t] = scheduler.optimizer.param_groups[0]['lr']\n",
        "\n",
        "            #report loss every few epochs\n",
        "            if verbose:\n",
        "                if t % printfreq == 0:\n",
        "                    print(\"Time: {:.1f} Epoch: {} Train MSE:{:.6e} Weight Decay:{:.6e}\".format(\n",
        "                        time.time()-starttime,\n",
        "                        t,\n",
        "                        trainmse[t],\n",
        "                        weightdecay[t]\n",
        "                    ))\n",
        "\n",
        "        #adjust learning rate\n",
        "        if scheduler is not None:\n",
        "            scheduler.step()\n",
        "\n",
        "        #turn off weight decay for last 100 epochs\n",
        "        if flag is False and t > epochs - no_wd_last_how_many_epochs:\n",
        "            optimizer.param_groups[1]['weight_decay'] = 0\n",
        "            flag = True\n",
        "\n",
        "    #report loss at end of training\n",
        "    with torch.no_grad():\n",
        "        testmse = loss_fn(model(testX).flatten(),testY).detach().cpu().numpy()\n",
        "        if verbose:\n",
        "            print(\"Time: {:.1f} Test MSE:{:.6e} Train MSE:{:.6e} Weight Decay:{:.6e}\".format(\n",
        "                time.time()-starttime,\n",
        "                testmse,\n",
        "                trainmse[t],\n",
        "                weightdecay[t]\n",
        "            ))\n",
        "\n",
        "    result_dict = {\n",
        "        'model':model,\n",
        "        'trainmse':trainmse,\n",
        "        'weightdecay':weightdecay,\n",
        "        'learningrate':learningrate,\n",
        "        'testmse':testmse\n",
        "    }\n",
        "\n",
        "    return result_dict"
      ]
    },
    {
      "cell_type": "markdown",
      "metadata": {
        "id": "9d-FAmp6oW6K"
      },
      "source": [
        "# training"
      ]
    },
    {
      "cell_type": "markdown",
      "metadata": {
        "id": "EmyNTNv-yk0G"
      },
      "source": [
        "## GPU"
      ]
    },
    {
      "cell_type": "code",
      "execution_count": null,
      "metadata": {
        "colab": {
          "base_uri": "https://localhost:8080/"
        },
        "id": "Cy0oCIE0owj_",
        "outputId": "d182c07d-fd57-4025-887c-b1aba6f550d6"
      },
      "outputs": [
        {
          "output_type": "stream",
          "name": "stdout",
          "text": [
            "Wed Aug  2 22:16:27 2023       \n",
            "+-----------------------------------------------------------------------------+\n",
            "| NVIDIA-SMI 525.105.17   Driver Version: 525.105.17   CUDA Version: 12.0     |\n",
            "|-------------------------------+----------------------+----------------------+\n",
            "| GPU  Name        Persistence-M| Bus-Id        Disp.A | Volatile Uncorr. ECC |\n",
            "| Fan  Temp  Perf  Pwr:Usage/Cap|         Memory-Usage | GPU-Util  Compute M. |\n",
            "|                               |                      |               MIG M. |\n",
            "|===============================+======================+======================|\n",
            "|   0  Tesla T4            Off  | 00000000:00:04.0 Off |                    0 |\n",
            "| N/A   59C    P8    10W /  70W |      0MiB / 15360MiB |      0%      Default |\n",
            "|                               |                      |                  N/A |\n",
            "+-------------------------------+----------------------+----------------------+\n",
            "                                                                               \n",
            "+-----------------------------------------------------------------------------+\n",
            "| Processes:                                                                  |\n",
            "|  GPU   GI   CI        PID   Type   Process name                  GPU Memory |\n",
            "|        ID   ID                                                   Usage      |\n",
            "|=============================================================================|\n",
            "|  No running processes found                                                 |\n",
            "+-----------------------------------------------------------------------------+\n",
            "cuda:0\n"
          ]
        }
      ],
      "source": [
        "# check GPU is enabled\n",
        "gpu_info = !nvidia-smi\n",
        "gpu_info = '\\n'.join(gpu_info)\n",
        "if gpu_info.find('failed') >= 0:\n",
        "  print('Select the Runtime > \"Change runtime type\" menu to enable a GPU accelerator, ')\n",
        "  print('and then re-execute this cell.')\n",
        "else:\n",
        "  print(gpu_info)\n",
        "\n",
        "device = torch.device(\"cuda:0\" if torch.cuda.is_available() else \"cpu\")\n",
        "print(device)"
      ]
    },
    {
      "cell_type": "code",
      "execution_count": null,
      "metadata": {
        "id": "jFGwYtTQ5M5k"
      },
      "outputs": [],
      "source": [
        "starttime = time.time()"
      ]
    },
    {
      "cell_type": "markdown",
      "metadata": {
        "id": "gBdNPwsJ5NQo"
      },
      "source": [
        "## $r = 1, N = 64$"
      ]
    },
    {
      "cell_type": "markdown",
      "metadata": {
        "id": "Ag_wBnjI5NQp"
      },
      "source": [
        "### training for each value of lambda"
      ]
    },
    {
      "cell_type": "code",
      "execution_count": null,
      "metadata": {
        "colab": {
          "base_uri": "https://localhost:8080/"
        },
        "id": "HosAZwhu5NQp",
        "outputId": "89bcbda8-c720-48f6-9900-ec6d7f550d2a"
      },
      "outputs": [
        {
          "output_type": "stream",
          "name": "stdout",
          "text": [
            "[0.001]\n",
            "r = 1, N = 64\n",
            "~~L = 2~~\n",
            "weight decay 1.00e-03, test mse 4.765840e+00 final train mse 1.321344e-14\n",
            "~~L = 4~~\n",
            "weight decay 1.00e-03, test mse 1.173315e-01 final train mse 3.463536e-12\n"
          ]
        }
      ],
      "source": [
        "# wds = np.logspace(-5,-3,num=3)\n",
        "wds = [1e-3]\n",
        "print(wds)\n",
        "r = 1\n",
        "datasetsize = 64\n",
        "print(f\"r = {r}, N = {datasetsize}\")\n",
        "res = {}\n",
        "for L in [2,4]:\n",
        "    print(f\"~~L = {L}~~\")\n",
        "    res[L] = {}\n",
        "    for wd in wds:\n",
        "        result = train_L_layers(datasetsize,L,r,weight_decay=wd,epochs=30_100,normal=False,\n",
        "                                lr=1e-4,scheduler=MultiStepLR,milestones=[30_000], gamma=0.1,verbose=False)\n",
        "        res[L][wd] = result\n",
        "        print(f\"weight decay {wd:.2e}, test mse {result['testmse']:.6e} final train mse {result['trainmse'][-1].item():.6e}\")\n"
      ]
    },
    {
      "cell_type": "markdown",
      "metadata": {
        "id": "V8kKAIWwK02x"
      },
      "source": [
        "### saving results"
      ]
    },
    {
      "cell_type": "code",
      "execution_count": null,
      "metadata": {
        "colab": {
          "base_uri": "https://localhost:8080/"
        },
        "id": "ILv6F-HOKVt7",
        "outputId": "03aa4c82-87a5-4872-f655-f3a2d2a49466"
      },
      "outputs": [
        {
          "name": "stdout",
          "output_type": "stream",
          "text": [
            "trainmse\n",
            "2 1e-05\n",
            "2 0.0001\n",
            "2 0.001\n",
            "4 1e-05\n",
            "4 0.0001\n",
            "4 0.001\n",
            "weightdecay\n",
            "2 1e-05\n",
            "2 0.0001\n",
            "2 0.001\n",
            "4 1e-05\n",
            "4 0.0001\n",
            "4 0.001\n",
            "learningrate\n",
            "2 1e-05\n",
            "2 0.0001\n",
            "2 0.001\n",
            "4 1e-05\n",
            "4 0.0001\n",
            "4 0.001\n",
            "testmse\n",
            "2 1e-05\n",
            "2 0.0001\n",
            "2 0.001\n",
            "4 1e-05\n",
            "4 0.0001\n",
            "4 0.001\n",
            "models\n",
            "2 1e-05\n",
            "2 0.0001\n",
            "2 0.001\n",
            "4 1e-05\n",
            "4 0.0001\n",
            "4 0.001\n"
          ]
        }
      ],
      "source": [
        "path = f\"gdrive/MyDrive/TeacherNetworkResults/normaldist\"\n",
        "for value_to_save in ['trainmse','weightdecay','learningrate','testmse']:\n",
        "    print(value_to_save)\n",
        "    value_dict = {L:{} for L in [2,4]}\n",
        "    for L in [2,4]:\n",
        "        for wd in wds:\n",
        "            print(L,wd)\n",
        "            if type(res[L][wd][value_to_save]) == torch.Tensor:\n",
        "                value = res[L][wd][value_to_save].clone().detach().cpu().numpy()\n",
        "            else:\n",
        "                value = res[L][wd][value_to_save].copy()\n",
        "            value_dict[L][wd] = value\n",
        "    np.save(f\"{path}{value_to_save}_r{r}_N{datasetsize}\",value_dict)\n",
        "#save trained models\n",
        "value_dict = {L:{} for L in [2,4]}\n",
        "print('models')\n",
        "for L in [2,4]:\n",
        "    for wd in wds:\n",
        "        print(L,wd)\n",
        "        model = res[L][wd]['model'].cpu()\n",
        "        torch.save(model.state_dict(), f\"{path}model_r{r}_N{datasetsize}_L{L}_wd{wd}\")"
      ]
    },
    {
      "cell_type": "markdown",
      "metadata": {
        "id": "kjaHpx-YK2Vg"
      },
      "source": [
        "### training plots"
      ]
    },
    {
      "cell_type": "code",
      "execution_count": null,
      "metadata": {
        "colab": {
          "base_uri": "https://localhost:8080/",
          "height": 514
        },
        "id": "tjbVTqqH5NQq",
        "outputId": "cbdee8bb-d22d-4d8c-aa03-6255233fde5d"
      },
      "outputs": [
        {
          "output_type": "execute_result",
          "data": {
            "text/plain": [
              "<matplotlib.legend.Legend at 0x79bf475f8fa0>"
            ]
          },
          "metadata": {},
          "execution_count": 16
        },
        {
          "output_type": "display_data",
          "data": {
            "text/plain": [
              "<Figure size 640x480 with 2 Axes>"
            ],
            "image/png": "[encoded data removed]"
          },
          "metadata": {}
        }
      ],
      "source": [
        "optimalL2wd = 1e-3 # CHOOSE MANUALLY\n",
        "optimalL4wd = 1e-3 # CHOOSE MANUALLY\n",
        "alpha = 0.8\n",
        "plt.subplot(121)\n",
        "plt.semilogy(res[2][optimalL2wd]['trainmse'].cpu(),alpha=alpha)\n",
        "plt.semilogy(res[4][optimalL4wd]['trainmse'].cpu(),alpha=alpha)\n",
        "plt.title(\"train mse\")\n",
        "plt.xlabel(\"epochs\")\n",
        "plt.subplot(122)\n",
        "plt.semilogy(res[2][optimalL2wd]['weightdecay'].cpu(),label=rf\"$L = 2,\\lambda = {optimalL2wd}$\",alpha=alpha)\n",
        "plt.semilogy(res[4][optimalL4wd]['weightdecay'].cpu(),label=rf\"$L = 4,\\lambda = {optimalL4wd}$\",alpha=alpha)\n",
        "plt.title('weight decay')\n",
        "plt.ylim(1e2,1e4)\n",
        "plt.xlabel(\"epochs\")\n",
        "plt.suptitle(rf\"$r = {r}, N = {datasetsize}$\")\n",
        "plt.legend()"
      ]
    },
    {
      "cell_type": "markdown",
      "metadata": {
        "id": "Jy2sC9T55QpW"
      },
      "source": [
        "## $r = 2, N = 64$"
      ]
    },
    {
      "cell_type": "markdown",
      "metadata": {
        "id": "VclzNLHf5QpX"
      },
      "source": [
        "### training for each value of lambda"
      ]
    },
    {
      "cell_type": "code",
      "execution_count": null,
      "metadata": {
        "colab": {
          "base_uri": "https://localhost:8080/"
        },
        "id": "qfvRU-Zy5QpY",
        "outputId": "2659d626-3673-4d06-ed55-2f7d39669f6c"
      },
      "outputs": [
        {
          "name": "stdout",
          "output_type": "stream",
          "text": [
            "[1.e-05 1.e-04 1.e-03]\n",
            "r = 2, N = 64\n",
            "~~L = 2~~\n",
            "weight decay 1.00e-05, test mse 1.195923e+02 final train mse 9.650558e-12\n",
            "weight decay 1.00e-04, test mse 1.114598e+02 final train mse 6.159032e-12\n",
            "weight decay 1.00e-03, test mse 1.092997e+02 final train mse 9.804470e-11\n",
            "~~L = 4~~\n",
            "weight decay 1.00e-05, test mse 1.082856e+02 final train mse 5.329195e-12\n",
            "weight decay 1.00e-04, test mse 1.115616e+02 final train mse 5.758827e-11\n",
            "weight decay 1.00e-03, test mse 1.264724e+02 final train mse 9.503694e-09\n"
          ]
        }
      ],
      "source": [
        "wds = np.logspace(-5,-3,num=3)\n",
        "print(wds)\n",
        "r = 2\n",
        "datasetsize = 64\n",
        "print(f\"r = {r}, N = {datasetsize}\")\n",
        "res = {}\n",
        "for L in [2,4]:\n",
        "    print(f\"~~L = {L}~~\")\n",
        "    res[L] = {}\n",
        "    for wd in wds:\n",
        "        result = train_L_layers(datasetsize,L,r,weight_decay=wd,epochs=50_100,normal=True,\n",
        "                                lr=1e-4,scheduler=MultiStepLR,milestones=[50_000], gamma=0.1,verbose=False)\n",
        "        res[L][wd] = result\n",
        "        print(f\"weight decay {wd:.2e}, test mse {result['testmse']:.6e} final train mse {result['trainmse'][-1].item():.6e}\")\n"
      ]
    },
    {
      "cell_type": "markdown",
      "metadata": {
        "id": "7zVTXYnvKXeZ"
      },
      "source": [
        "### saving results"
      ]
    },
    {
      "cell_type": "code",
      "execution_count": null,
      "metadata": {
        "colab": {
          "base_uri": "https://localhost:8080/"
        },
        "id": "9bbc8DkmKT1E",
        "outputId": "5e41112f-aa4a-4ac3-d4b9-fbac486437a2"
      },
      "outputs": [
        {
          "name": "stdout",
          "output_type": "stream",
          "text": [
            "trainmse\n",
            "2 1e-05\n",
            "2 0.0001\n",
            "2 0.001\n",
            "4 1e-05\n",
            "4 0.0001\n",
            "4 0.001\n",
            "weightdecay\n",
            "2 1e-05\n",
            "2 0.0001\n",
            "2 0.001\n",
            "4 1e-05\n",
            "4 0.0001\n",
            "4 0.001\n",
            "learningrate\n",
            "2 1e-05\n",
            "2 0.0001\n",
            "2 0.001\n",
            "4 1e-05\n",
            "4 0.0001\n",
            "4 0.001\n",
            "testmse\n",
            "2 1e-05\n",
            "2 0.0001\n",
            "2 0.001\n",
            "4 1e-05\n",
            "4 0.0001\n",
            "4 0.001\n",
            "models\n",
            "2 1e-05\n",
            "2 0.0001\n",
            "2 0.001\n",
            "4 1e-05\n",
            "4 0.0001\n",
            "4 0.001\n"
          ]
        }
      ],
      "source": [
        "path = f\"gdrive/MyDrive/TeacherNetworkResults/normaldist\"\n",
        "for value_to_save in ['trainmse','weightdecay','learningrate','testmse']:\n",
        "    print(value_to_save)\n",
        "    value_dict = {L:{} for L in [2,4]}\n",
        "    for L in [2,4]:\n",
        "        for wd in wds:\n",
        "            print(L,wd)\n",
        "            if type(res[L][wd][value_to_save]) == torch.Tensor:\n",
        "                value = res[L][wd][value_to_save].clone().detach().cpu().numpy()\n",
        "            else:\n",
        "                value = res[L][wd][value_to_save].copy()\n",
        "            value_dict[L][wd] = value\n",
        "    np.save(f\"{path}{value_to_save}_r{r}_N{datasetsize}\",value_dict)\n",
        "#save trained models\n",
        "value_dict = {L:{} for L in [2,4]}\n",
        "print('models')\n",
        "for L in [2,4]:\n",
        "    for wd in wds:\n",
        "        print(L,wd)\n",
        "        model = res[L][wd]['model'].cpu()\n",
        "        torch.save(model.state_dict(), f\"{path}model_r{r}_N{datasetsize}_L{L}_wd{wd}\")"
      ]
    },
    {
      "cell_type": "markdown",
      "metadata": {
        "id": "eff0gGiSKbFq"
      },
      "source": [
        "### training plots"
      ]
    },
    {
      "cell_type": "code",
      "execution_count": null,
      "metadata": {
        "colab": {
          "base_uri": "https://localhost:8080/",
          "height": 514
        },
        "id": "IdDbGByI5QpY",
        "outputId": "19010f38-6d7c-424d-bebb-9ffa0c72bdf1"
      },
      "outputs": [
        {
          "data": {
            "text/plain": [
              "<matplotlib.legend.Legend at 0x7fd0a54fc850>"
            ]
          },
          "execution_count": 16,
          "metadata": {},
          "output_type": "execute_result"
        },
        {
          "data": {
            "image/png": "[encoded data removed]",
            "text/plain": [
              "<Figure size 640x480 with 2 Axes>"
            ]
          },
          "metadata": {},
          "output_type": "display_data"
        }
      ],
      "source": [
        "optimalL2wd = 1e-3 # CHOOSE MANUALLY\n",
        "optimalL4wd = 1e-3 # CHOOSE MANUALLY\n",
        "alpha = 0.8\n",
        "plt.subplot(121)\n",
        "plt.semilogy(res[2][optimalL2wd]['trainmse'].cpu(),alpha=alpha)\n",
        "plt.semilogy(res[4][optimalL4wd]['trainmse'].cpu(),alpha=alpha)\n",
        "plt.title(\"train mse\")\n",
        "plt.xlabel(\"epochs\")\n",
        "plt.subplot(122)\n",
        "plt.semilogy(res[2][optimalL2wd]['weightdecay'].cpu(),label=rf\"$L = 2,\\lambda = {optimalL2wd}$\",alpha=alpha)\n",
        "plt.semilogy(res[4][optimalL4wd]['weightdecay'].cpu(),label=rf\"$L = 4,\\lambda = {optimalL4wd}$\",alpha=alpha)\n",
        "plt.title('weight decay')\n",
        "plt.ylim(1e2,1e4)\n",
        "plt.xlabel(\"epochs\")\n",
        "plt.suptitle(rf\"$r = {r}, N = {datasetsize}$\")\n",
        "plt.legend()"
      ]
    },
    {
      "cell_type": "markdown",
      "metadata": {
        "id": "UMYU83V65PRV"
      },
      "source": [
        "## $r = 2, N = 256$"
      ]
    },
    {
      "cell_type": "markdown",
      "metadata": {
        "id": "Ni5MgbzE5PRW"
      },
      "source": [
        "### training for each value of lambda"
      ]
    },
    {
      "cell_type": "code",
      "execution_count": null,
      "metadata": {
        "colab": {
          "base_uri": "https://localhost:8080/"
        },
        "id": "9_bhgWac5PRW",
        "outputId": "616d3193-9626-40d7-977f-cc7390ba5fc4"
      },
      "outputs": [
        {
          "name": "stdout",
          "output_type": "stream",
          "text": [
            "[1.e-05 1.e-04 1.e-03]\n",
            "r = 2, N = 256\n",
            "~~L = 2~~\n",
            "weight decay 1.00e-05, test mse 5.757977e+01 final train mse 5.399089e-10\n",
            "weight decay 1.00e-04, test mse 5.186653e+01 final train mse 9.014581e-09\n",
            "weight decay 1.00e-03, test mse 4.671657e+01 final train mse 5.370113e-06\n",
            "~~L = 4~~\n",
            "weight decay 1.00e-05, test mse 1.491268e+01 final train mse 3.289384e-06\n",
            "weight decay 1.00e-04, test mse 1.301165e+01 final train mse 2.466207e-05\n",
            "weight decay 1.00e-03, test mse 3.890944e+00 final train mse 2.479585e-05\n"
          ]
        }
      ],
      "source": [
        "wds = np.logspace(-5,-3,num=3)\n",
        "print(wds)\n",
        "r = 2\n",
        "datasetsize = 256\n",
        "print(f\"r = {r}, N = {datasetsize}\")\n",
        "res = {}\n",
        "for L in [2,4]:\n",
        "    print(f\"~~L = {L}~~\")\n",
        "    res[L] = {}\n",
        "    for wd in wds:\n",
        "        result = train_L_layers(datasetsize,L,r,weight_decay=wd,epochs=50_100,normal=True,\n",
        "                                lr=1e-4,scheduler=MultiStepLR,milestones=[50_000], gamma=0.1,verbose=False)\n",
        "        res[L][wd] = result\n",
        "        print(f\"weight decay {wd:.2e}, test mse {result['testmse']:.6e} final train mse {result['trainmse'][-1].item():.6e}\")\n"
      ]
    },
    {
      "cell_type": "markdown",
      "metadata": {
        "id": "C9fhRozCKdSz"
      },
      "source": [
        "### saving results"
      ]
    },
    {
      "cell_type": "code",
      "execution_count": null,
      "metadata": {
        "colab": {
          "base_uri": "https://localhost:8080/"
        },
        "id": "6soyyzMWKR4D",
        "outputId": "704c1ca8-4c6a-46d1-9e42-96557468ee9f"
      },
      "outputs": [
        {
          "name": "stdout",
          "output_type": "stream",
          "text": [
            "trainmse\n",
            "2 1e-05\n",
            "2 0.0001\n",
            "2 0.001\n",
            "4 1e-05\n",
            "4 0.0001\n",
            "4 0.001\n",
            "weightdecay\n",
            "2 1e-05\n",
            "2 0.0001\n",
            "2 0.001\n",
            "4 1e-05\n",
            "4 0.0001\n",
            "4 0.001\n",
            "learningrate\n",
            "2 1e-05\n",
            "2 0.0001\n",
            "2 0.001\n",
            "4 1e-05\n",
            "4 0.0001\n",
            "4 0.001\n",
            "testmse\n",
            "2 1e-05\n",
            "2 0.0001\n",
            "2 0.001\n",
            "4 1e-05\n",
            "4 0.0001\n",
            "4 0.001\n",
            "models\n",
            "2 1e-05\n",
            "2 0.0001\n",
            "2 0.001\n",
            "4 1e-05\n",
            "4 0.0001\n",
            "4 0.001\n"
          ]
        }
      ],
      "source": [
        "path = f\"gdrive/MyDrive/TeacherNetworkResults/normaldist\"\n",
        "for value_to_save in ['trainmse','weightdecay','learningrate','testmse']:\n",
        "    print(value_to_save)\n",
        "    value_dict = {L:{} for L in [2,4]}\n",
        "    for L in [2,4]:\n",
        "        for wd in wds:\n",
        "            print(L,wd)\n",
        "            if type(res[L][wd][value_to_save]) == torch.Tensor:\n",
        "                value = res[L][wd][value_to_save].clone().detach().cpu().numpy()\n",
        "            else:\n",
        "                value = res[L][wd][value_to_save].copy()\n",
        "            value_dict[L][wd] = value\n",
        "    np.save(f\"{path}{value_to_save}_r{r}_N{datasetsize}\",value_dict)\n",
        "#save trained models\n",
        "value_dict = {L:{} for L in [2,4]}\n",
        "print('models')\n",
        "for L in [2,4]:\n",
        "    for wd in wds:\n",
        "        print(L,wd)\n",
        "        model = res[L][wd]['model'].cpu()\n",
        "        torch.save(model.state_dict(), f\"{path}model_r{r}_N{datasetsize}_L{L}_wd{wd}\")"
      ]
    },
    {
      "cell_type": "markdown",
      "metadata": {
        "id": "YuxQa6d0KfeB"
      },
      "source": [
        "### training plots"
      ]
    },
    {
      "cell_type": "code",
      "execution_count": null,
      "metadata": {
        "colab": {
          "base_uri": "https://localhost:8080/",
          "height": 514
        },
        "id": "BeU6BSsv5PRX",
        "outputId": "3f475c76-a3ee-4543-c8ee-15e5177dfbdd"
      },
      "outputs": [
        {
          "data": {
            "text/plain": [
              "<matplotlib.legend.Legend at 0x7fd0a55cc940>"
            ]
          },
          "execution_count": 19,
          "metadata": {},
          "output_type": "execute_result"
        },
        {
          "data": {
            "image/png": "[encoded data removed]",
            "text/plain": [
              "<Figure size 640x480 with 2 Axes>"
            ]
          },
          "metadata": {},
          "output_type": "display_data"
        }
      ],
      "source": [
        "optimalL2wd = 1e-3 # CHOOSE MANUALLY\n",
        "optimalL4wd = 1e-3 # CHOOSE MANUALLY\n",
        "alpha = 0.8\n",
        "plt.subplot(121)\n",
        "plt.semilogy(res[2][optimalL2wd]['trainmse'].cpu(),alpha=alpha)\n",
        "plt.semilogy(res[4][optimalL4wd]['trainmse'].cpu(),alpha=alpha)\n",
        "plt.title(\"train mse\")\n",
        "plt.xlabel(\"epochs\")\n",
        "plt.subplot(122)\n",
        "plt.semilogy(res[2][optimalL2wd]['weightdecay'].cpu(),label=rf\"$L = 2,\\lambda = {optimalL2wd}$\",alpha=alpha)\n",
        "plt.semilogy(res[4][optimalL4wd]['weightdecay'].cpu(),label=rf\"$L = 4,\\lambda = {optimalL4wd}$\",alpha=alpha)\n",
        "plt.title('weight decay')\n",
        "plt.ylim(1e2,1e4)\n",
        "plt.xlabel(\"epochs\")\n",
        "plt.suptitle(rf\"$r = {r}, N = {datasetsize}$\")\n",
        "plt.legend()"
      ]
    },
    {
      "cell_type": "markdown",
      "metadata": {
        "id": "Zc1A3BCGI9RF"
      },
      "source": [
        "## $r = 2, N = 512$"
      ]
    },
    {
      "cell_type": "markdown",
      "metadata": {
        "id": "dioqdxN7I9RG"
      },
      "source": [
        "### training for each value of lambda"
      ]
    },
    {
      "cell_type": "code",
      "execution_count": null,
      "metadata": {
        "colab": {
          "background_save": true,
          "base_uri": "https://localhost:8080/"
        },
        "id": "x9m3EWFLzYjY",
        "outputId": "513b6a40-5aa0-4fac-e9a0-991e6c2eb335"
      },
      "outputs": [
        {
          "name": "stdout",
          "output_type": "stream",
          "text": [
            "[1.e-05 1.e-04 1.e-03]\n",
            "r = 2, N = 512\n",
            "~~L = 2~~\n",
            "weight decay 1.00e-05, test mse 3.268526e+01 final train mse 1.820685e-08\n",
            "weight decay 1.00e-04, test mse 2.885873e+01 final train mse 1.401408e-07\n",
            "weight decay 1.00e-03, test mse 2.547874e+01 final train mse 3.353017e-05\n",
            "~~L = 4~~\n",
            "weight decay 1.00e-05, test mse 3.999386e+00 final train mse 1.045495e-05\n",
            "weight decay 1.00e-04, test mse 2.606058e+00 final train mse 1.206990e-06\n",
            "weight decay 1.00e-03, test mse 9.002210e-02 final train mse 6.224695e-04\n"
          ]
        }
      ],
      "source": [
        "wds = np.logspace(-5,-3,num=3)\n",
        "print(wds)\n",
        "r = 2\n",
        "datasetsize = 512\n",
        "print(f\"r = {r}, N = {datasetsize}\")\n",
        "res = {}\n",
        "for L in [2,4]:\n",
        "    print(f\"~~L = {L}~~\")\n",
        "    res[L] = {}\n",
        "    for wd in wds:\n",
        "        result = train_L_layers(datasetsize,L,r,weight_decay=wd,epochs=50_100,normal=True,\n",
        "                                lr=1e-4,scheduler=MultiStepLR,milestones=[50_000], gamma=0.1,verbose=False)\n",
        "        res[L][wd] = result\n",
        "        print(f\"weight decay {wd:.2e}, test mse {result['testmse']:.6e} final train mse {result['trainmse'][-1].item():.6e}\")\n"
      ]
    },
    {
      "cell_type": "markdown",
      "metadata": {
        "id": "p2qCOURrKqj3"
      },
      "source": [
        "### saving results"
      ]
    },
    {
      "cell_type": "code",
      "execution_count": null,
      "metadata": {
        "colab": {
          "background_save": true
        },
        "id": "CtsHNYFuFiF4",
        "outputId": "22776316-78e3-4bd7-9b60-54bcfe50c53d"
      },
      "outputs": [
        {
          "name": "stdout",
          "output_type": "stream",
          "text": [
            "trainmse\n",
            "2 1e-05\n",
            "2 0.0001\n",
            "2 0.001\n",
            "4 1e-05\n",
            "4 0.0001\n",
            "4 0.001\n",
            "weightdecay\n",
            "2 1e-05\n",
            "2 0.0001\n",
            "2 0.001\n",
            "4 1e-05\n",
            "4 0.0001\n",
            "4 0.001\n",
            "learningrate\n",
            "2 1e-05\n",
            "2 0.0001\n",
            "2 0.001\n",
            "4 1e-05\n",
            "4 0.0001\n",
            "4 0.001\n",
            "testmse\n",
            "2 1e-05\n",
            "2 0.0001\n",
            "2 0.001\n",
            "4 1e-05\n",
            "4 0.0001\n",
            "4 0.001\n",
            "models\n",
            "2 1e-05\n",
            "2 0.0001\n",
            "2 0.001\n",
            "4 1e-05\n",
            "4 0.0001\n",
            "4 0.001\n"
          ]
        }
      ],
      "source": [
        "path = f\"gdrive/MyDrive/TeacherNetworkResults/normaldist\"\n",
        "for value_to_save in ['trainmse','weightdecay','learningrate','testmse']:\n",
        "    print(value_to_save)\n",
        "    value_dict = {L:{} for L in [2,4]}\n",
        "    for L in [2,4]:\n",
        "        for wd in wds:\n",
        "            print(L,wd)\n",
        "            if type(res[L][wd][value_to_save]) == torch.Tensor:\n",
        "                value = res[L][wd][value_to_save].clone().detach().cpu().numpy()\n",
        "            else:\n",
        "                value = res[L][wd][value_to_save].copy()\n",
        "            value_dict[L][wd] = value\n",
        "    np.save(f\"{path}{value_to_save}_r{r}_N{datasetsize}\",value_dict)\n",
        "#save trained models\n",
        "value_dict = {L:{} for L in [2,4]}\n",
        "print('models')\n",
        "for L in [2,4]:\n",
        "    for wd in wds:\n",
        "        print(L,wd)\n",
        "        model = res[L][wd]['model'].cpu()\n",
        "        torch.save(model.state_dict(), f\"{path}model_r{r}_N{datasetsize}_L{L}_wd{wd}\")"
      ]
    },
    {
      "cell_type": "markdown",
      "metadata": {
        "id": "8Str2MIHKtBE"
      },
      "source": [
        "### training plots"
      ]
    },
    {
      "cell_type": "code",
      "execution_count": null,
      "metadata": {
        "colab": {
          "background_save": true
        },
        "id": "iNsIy466I9RI",
        "outputId": "fe3acfbb-d510-4d8d-ed74-3c90da53abda"
      },
      "outputs": [
        {
          "data": {
            "text/plain": [
              "<matplotlib.legend.Legend at 0x7fd0a53c3730>"
            ]
          },
          "execution_count": 22,
          "metadata": {},
          "output_type": "execute_result"
        },
        {
          "data": {
            "image/png": "[encoded data removed]",
            "text/plain": [
              "<Figure size 640x480 with 2 Axes>"
            ]
          },
          "metadata": {},
          "output_type": "display_data"
        }
      ],
      "source": [
        "optimalL2wd = 1e-3 # CHOOSE MANUALLY\n",
        "optimalL4wd = 1e-3 # CHOOSE MANUALLY\n",
        "alpha = 0.8\n",
        "plt.subplot(121)\n",
        "plt.semilogy(res[2][optimalL2wd]['trainmse'].cpu(),alpha=alpha)\n",
        "plt.semilogy(res[4][optimalL4wd]['trainmse'].cpu(),alpha=alpha)\n",
        "plt.title(\"train mse\")\n",
        "plt.xlabel(\"epochs\")\n",
        "plt.subplot(122)\n",
        "plt.semilogy(res[2][optimalL2wd]['weightdecay'].cpu(),label=rf\"$L = 2,\\lambda = {optimalL2wd}$\",alpha=alpha)\n",
        "plt.semilogy(res[4][optimalL4wd]['weightdecay'].cpu(),label=rf\"$L = 4,\\lambda = {optimalL4wd}$\",alpha=alpha)\n",
        "plt.title('weight decay')\n",
        "plt.ylim(1e2,1e4)\n",
        "plt.xlabel(\"epochs\")\n",
        "plt.suptitle(rf\"$r = {r}, N = {datasetsize}$\")\n",
        "plt.legend()"
      ]
    },
    {
      "cell_type": "code",
      "execution_count": null,
      "metadata": {
        "colab": {
          "background_save": true
        },
        "id": "VdCV1GSzk5bn",
        "outputId": "34d17dd2-6c5c-490f-d1d0-9d7d236c1b4f"
      },
      "outputs": [
        {
          "data": {
            "text/plain": [
              "9726.770832777023"
            ]
          },
          "execution_count": 23,
          "metadata": {},
          "output_type": "execute_result"
        }
      ],
      "source": [
        "endtime = time.time() - starttime\n",
        "endtime"
      ]
    }
  ],
  "metadata": {
    "accelerator": "GPU",
    "colab": {
      "machine_shape": "hm",
      "toc_visible": true,
      "provenance": [],
      "include_colab_link": true
    },
    "gpuClass": "standard",
    "kernelspec": {
      "display_name": "Python 3",
      "name": "python3"
    },
    "language_info": {
      "name": "python"
    }
  },
  "nbformat": 4,
  "nbformat_minor": 0
}